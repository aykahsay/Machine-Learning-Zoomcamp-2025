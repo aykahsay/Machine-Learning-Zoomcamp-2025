{
 "cells": [
  {
   "cell_type": "markdown",
   "id": "04577488",
   "metadata": {},
   "source": [
    "#### **Homework 1: Introduction to Machine Learning for Machine Learning Zoomcamp 2025**"
   ]
  },
  {
   "cell_type": "markdown",
   "id": "8d024564",
   "metadata": {},
   "source": [
    "#### **Libraries**\n"
   ]
  },
  {
   "cell_type": "code",
   "execution_count": 73,
   "id": "e5b831ca",
   "metadata": {},
   "outputs": [],
   "source": [
    "import pandas as pd\n",
    "import numpy as np"
   ]
  },
  {
   "cell_type": "markdown",
   "id": "3a2df102",
   "metadata": {},
   "source": [
    "##### **Pandas version**"
   ]
  },
  {
   "cell_type": "code",
   "execution_count": 38,
   "id": "3a8db947",
   "metadata": {},
   "outputs": [
    {
     "data": {
      "text/plain": [
       "'2.3.2'"
      ]
     },
     "execution_count": 38,
     "metadata": {},
     "output_type": "execute_result"
    }
   ],
   "source": [
    "pd.__version__"
   ]
  },
  {
   "cell_type": "markdown",
   "id": "faae69a7",
   "metadata": {},
   "source": [
    "##### **Records count**\n"
   ]
  },
  {
   "cell_type": "markdown",
   "id": "393f2239",
   "metadata": {},
   "source": [
    "- Import Dataset"
   ]
  },
  {
   "cell_type": "code",
   "execution_count": 39,
   "id": "f94685f1",
   "metadata": {},
   "outputs": [
    {
     "name": "stdout",
     "output_type": "stream",
     "text": [
      "   engine_displacement  num_cylinders  horsepower  vehicle_weight  \\\n",
      "0                  170            3.0       159.0     3413.433759   \n",
      "1                  130            5.0        97.0     3149.664934   \n",
      "2                  170            NaN        78.0     3079.038997   \n",
      "3                  220            4.0         NaN     2542.392402   \n",
      "4                  210            1.0       140.0     3460.870990   \n",
      "\n",
      "   acceleration  model_year  origin fuel_type         drivetrain  num_doors  \\\n",
      "0          17.7        2003  Europe  Gasoline    All-wheel drive        0.0   \n",
      "1          17.8        2007     USA  Gasoline  Front-wheel drive        0.0   \n",
      "2          15.1        2018  Europe  Gasoline  Front-wheel drive        0.0   \n",
      "3          20.2        2009     USA    Diesel    All-wheel drive        2.0   \n",
      "4          14.4        2009  Europe  Gasoline    All-wheel drive        2.0   \n",
      "\n",
      "   fuel_efficiency_mpg  \n",
      "0            13.231729  \n",
      "1            13.688217  \n",
      "2            14.246341  \n",
      "3            16.912736  \n",
      "4            12.488369  \n",
      "(9704, 11)\n"
     ]
    }
   ],
   "source": [
    "url = \"https://raw.githubusercontent.com/alexeygrigorev/datasets/master/car_fuel_efficiency.csv\"\n",
    "df = pd.read_csv(url)\n",
    "\n",
    "print(df.head())\n",
    "print(df.shape)"
   ]
  },
  {
   "cell_type": "markdown",
   "id": "359bbdb0",
   "metadata": {},
   "source": [
    "- How many records are in the dataset?"
   ]
  },
  {
   "cell_type": "code",
   "execution_count": 40,
   "id": "b20d1aa8",
   "metadata": {},
   "outputs": [
    {
     "name": "stdout",
     "output_type": "stream",
     "text": [
      "Records count: 9704\n"
     ]
    }
   ],
   "source": [
    "print(\"Records count:\", len(df))"
   ]
  },
  {
   "cell_type": "markdown",
   "id": "b6f4d13e",
   "metadata": {},
   "source": [
    "##### **Fuel types**\n",
    "- How many fuel types are presented in the dataset?"
   ]
  },
  {
   "cell_type": "code",
   "execution_count": 41,
   "id": "8dd162c8",
   "metadata": {},
   "outputs": [
    {
     "data": {
      "text/plain": [
       "Index(['engine_displacement', 'num_cylinders', 'horsepower', 'vehicle_weight',\n",
       "       'acceleration', 'model_year', 'origin', 'fuel_type', 'drivetrain',\n",
       "       'num_doors', 'fuel_efficiency_mpg'],\n",
       "      dtype='object')"
      ]
     },
     "execution_count": 41,
     "metadata": {},
     "output_type": "execute_result"
    }
   ],
   "source": [
    "# Names of the Variables\n",
    "df.columns"
   ]
  },
  {
   "cell_type": "code",
   "execution_count": 42,
   "id": "24ec4e45",
   "metadata": {},
   "outputs": [
    {
     "name": "stdout",
     "output_type": "stream",
     "text": [
      "2\n",
      "['Gasoline' 'Diesel']\n"
     ]
    }
   ],
   "source": [
    "#Number of Fuel Types\n",
    "print(df['fuel_type'].nunique())\n",
    "# Types of Fuels\n",
    "print(df['fuel_type'].unique())  # Confirmation"
   ]
  },
  {
   "cell_type": "markdown",
   "id": "06f91f1c",
   "metadata": {},
   "source": [
    "##### **Missing values**\n",
    "- How many columns in the dataset have missing values?"
   ]
  },
  {
   "cell_type": "code",
   "execution_count": 43,
   "id": "a49b66af",
   "metadata": {},
   "outputs": [
    {
     "name": "stdout",
     "output_type": "stream",
     "text": [
      "4\n"
     ]
    }
   ],
   "source": [
    "print((df.isnull().sum()!=0).sum())"
   ]
  },
  {
   "cell_type": "code",
   "execution_count": 44,
   "id": "45e659dc",
   "metadata": {},
   "outputs": [
    {
     "data": {
      "application/vnd.microsoft.datawrangler.viewer.v0+json": {
       "columns": [
        {
         "name": "index",
         "rawType": "object",
         "type": "string"
        },
        {
         "name": "0",
         "rawType": "int64",
         "type": "integer"
        }
       ],
       "ref": "48002b06-84f6-4f11-9ea6-11c40a652eca",
       "rows": [
        [
         "engine_displacement",
         "0"
        ],
        [
         "num_cylinders",
         "482"
        ],
        [
         "horsepower",
         "708"
        ],
        [
         "vehicle_weight",
         "0"
        ],
        [
         "acceleration",
         "930"
        ],
        [
         "model_year",
         "0"
        ],
        [
         "origin",
         "0"
        ],
        [
         "fuel_type",
         "0"
        ],
        [
         "drivetrain",
         "0"
        ],
        [
         "num_doors",
         "502"
        ],
        [
         "fuel_efficiency_mpg",
         "0"
        ]
       ],
       "shape": {
        "columns": 1,
        "rows": 11
       }
      },
      "text/plain": [
       "engine_displacement      0\n",
       "num_cylinders          482\n",
       "horsepower             708\n",
       "vehicle_weight           0\n",
       "acceleration           930\n",
       "model_year               0\n",
       "origin                   0\n",
       "fuel_type                0\n",
       "drivetrain               0\n",
       "num_doors              502\n",
       "fuel_efficiency_mpg      0\n",
       "dtype: int64"
      ]
     },
     "execution_count": 44,
     "metadata": {},
     "output_type": "execute_result"
    }
   ],
   "source": [
    "df.isnull().sum()"
   ]
  },
  {
   "cell_type": "markdown",
   "id": "94dbb367",
   "metadata": {},
   "source": [
    "##### **Max fuel efficiency**\n",
    "- What's the maximum fuel efficiency of cars from Asia?"
   ]
  },
  {
   "cell_type": "code",
   "execution_count": 45,
   "id": "f75312f8",
   "metadata": {},
   "outputs": [
    {
     "name": "stdout",
     "output_type": "stream",
     "text": [
      "23.759122836520497\n"
     ]
    }
   ],
   "source": [
    "Asia_Max_fuel_eff=df[df[\"origin\"]==\"Asia\"][\"fuel_efficiency_mpg\"].max()\n",
    "print(Asia_Max_fuel_eff)"
   ]
  },
  {
   "cell_type": "markdown",
   "id": "4573ae3e",
   "metadata": {},
   "source": [
    "##### **Median value of horsepower**\n"
   ]
  },
  {
   "cell_type": "markdown",
   "id": "7a7421de",
   "metadata": {},
   "source": [
    "  - Median value of horsepower column in the dataset."
   ]
  },
  {
   "cell_type": "code",
   "execution_count": 46,
   "id": "749712fb",
   "metadata": {},
   "outputs": [
    {
     "name": "stdout",
     "output_type": "stream",
     "text": [
      "149.0\n"
     ]
    }
   ],
   "source": [
    "median_hp=df[\"horsepower\"].median()\n",
    "print(median_hp)"
   ]
  },
  {
   "cell_type": "markdown",
   "id": "7e0fd471",
   "metadata": {},
   "source": [
    "- most frequent value of the same horsepower column."
   ]
  },
  {
   "cell_type": "code",
   "execution_count": 35,
   "id": "5b1b46cc",
   "metadata": {},
   "outputs": [
    {
     "name": "stdout",
     "output_type": "stream",
     "text": [
      "152.0\n"
     ]
    }
   ],
   "source": [
    "mode_hp=df[\"horsepower\"].mode()[0]\n",
    "print(mode_hp)"
   ]
  },
  {
   "cell_type": "markdown",
   "id": "df8d6a40",
   "metadata": {},
   "source": [
    "- Filling the missing values in horsepower column using Fillna method with the most frequent value from the previous step."
   ]
  },
  {
   "cell_type": "code",
   "execution_count": 52,
   "id": "793d13cd",
   "metadata": {},
   "outputs": [
    {
     "name": "stdout",
     "output_type": "stream",
     "text": [
      "708\n"
     ]
    }
   ],
   "source": [
    "# missing values in horsepower column \n",
    "print(df[\"horsepower\"].isnull().sum())"
   ]
  },
  {
   "cell_type": "code",
   "execution_count": 53,
   "id": "088622d9",
   "metadata": {},
   "outputs": [],
   "source": [
    "df[\"horsepower\"]=df[\"horsepower\"].fillna(mode_hp)\n"
   ]
  },
  {
   "cell_type": "code",
   "execution_count": 54,
   "id": "314296f8",
   "metadata": {},
   "outputs": [
    {
     "name": "stdout",
     "output_type": "stream",
     "text": [
      "0\n"
     ]
    }
   ],
   "source": [
    "# missing values in horsepower column after Fillna\n",
    "print(df[\"horsepower\"].isnull().sum())"
   ]
  },
  {
   "cell_type": "markdown",
   "id": "a318f4d5",
   "metadata": {},
   "source": [
    "- *median value of horsepower*"
   ]
  },
  {
   "cell_type": "code",
   "execution_count": 55,
   "id": "923732d1",
   "metadata": {},
   "outputs": [
    {
     "name": "stdout",
     "output_type": "stream",
     "text": [
      "152.0\n"
     ]
    }
   ],
   "source": [
    "median_hp=df[\"horsepower\"].median()\n",
    "print(median_hp)"
   ]
  },
  {
   "cell_type": "markdown",
   "id": "5ae628a8",
   "metadata": {},
   "source": [
    "##### **Sum of weights**"
   ]
  },
  {
   "cell_type": "markdown",
   "id": "050e2455",
   "metadata": {},
   "source": [
    "- Getting a NumPy array, X."
   ]
  },
  {
   "cell_type": "code",
   "execution_count": 63,
   "id": "e428b6d0",
   "metadata": {},
   "outputs": [
    {
     "data": {
      "text/plain": [
       "array([[2714.21930965, 2016.        ],\n",
       "       [2783.86897424, 2010.        ],\n",
       "       [3582.68736772, 2007.        ],\n",
       "       [2231.8081416 , 2011.        ],\n",
       "       [2659.43145076, 2016.        ],\n",
       "       [2844.22753389, 2014.        ],\n",
       "       [3761.99403819, 2019.        ]])"
      ]
     },
     "execution_count": 63,
     "metadata": {},
     "output_type": "execute_result"
    }
   ],
   "source": [
    "# Select all the cars from Asia\n",
    "Veh_Asia=df[df[\"origin\"]==\"Asia\"]\n",
    "# Select only columns vehicle_weight and model_year\n",
    "Veh_Asia_VC_My=df[df[\"origin\"]==\"Asia\"][[\"vehicle_weight\",\"model_year\"]]\n",
    "# Select the first 7 values\n",
    "Veh_Asia_VC_My_7=Veh_Asia_VC_My.head(7)\n",
    "# Get the underlying NumPy array. Let's call it X.\n",
    "X=Veh_Asia_VC_My_7.to_numpy()\n",
    "X"
   ]
  },
  {
   "cell_type": "markdown",
   "id": "1f5eb366",
   "metadata": {},
   "source": [
    "-  Transpose, use X.T. Let's call the result XTX"
   ]
  },
  {
   "cell_type": "code",
   "execution_count": 70,
   "id": "bb7205ab",
   "metadata": {},
   "outputs": [],
   "source": [
    "X_t=X.T"
   ]
  },
  {
   "cell_type": "markdown",
   "id": "4f5ffb89",
   "metadata": {},
   "source": [
    "- Compute matrix-matrix multiplication between the transpose of X and X. "
   ]
  },
  {
   "cell_type": "code",
   "execution_count": 71,
   "id": "1c63de50",
   "metadata": {},
   "outputs": [
    {
     "name": "stdout",
     "output_type": "stream",
     "text": [
      "XTX:\n",
      " [[62248334.33150762 41431216.5073268 ]\n",
      " [41431216.5073268  28373339.        ]]\n"
     ]
    }
   ],
   "source": [
    "XTX = X_t @ X\n",
    "print(\"XTX:\\n\", XTX)"
   ]
  },
  {
   "cell_type": "markdown",
   "id": "9cb5b5ef",
   "metadata": {},
   "source": [
    "- Invert XTX"
   ]
  },
  {
   "cell_type": "code",
   "execution_count": 74,
   "id": "2b744a7c",
   "metadata": {},
   "outputs": [
    {
     "name": "stdout",
     "output_type": "stream",
     "text": [
      "Inverse of XTX:\n",
      " [[ 5.71497081e-07 -8.34509443e-07]\n",
      " [-8.34509443e-07  1.25380877e-06]]\n"
     ]
    }
   ],
   "source": [
    "XTX_inv = np.linalg.inv(XTX)\n",
    "\n",
    "print(\"Inverse of XTX:\\n\", XTX_inv)\n"
   ]
  },
  {
   "cell_type": "markdown",
   "id": "e00d139d",
   "metadata": {},
   "source": [
    "- Create an array y with values [1100, 1300, 800, 900, 1000, 1100, 1200]."
   ]
  },
  {
   "cell_type": "code",
   "execution_count": null,
   "id": "10ea7fc4",
   "metadata": {},
   "outputs": [],
   "source": [
    "y=[1100, 1300, 800, 900, 1000, 1100, 1200]"
   ]
  },
  {
   "cell_type": "markdown",
   "id": "6f062938",
   "metadata": {},
   "source": [
    "- Multiply the inverse of XTX with the transpose of X, and then multiply the result by y. Call the result w"
   ]
  },
  {
   "cell_type": "code",
   "execution_count": 77,
   "id": "e72377b6",
   "metadata": {},
   "outputs": [
    {
     "name": "stdout",
     "output_type": "stream",
     "text": [
      "[0.01386421 0.5049067 ]\n"
     ]
    }
   ],
   "source": [
    "w = XTX_inv @ X.T @ y\n",
    "print(w)"
   ]
  },
  {
   "cell_type": "markdown",
   "id": "cecd679e",
   "metadata": {},
   "source": [
    "- What's the sum of all the elements of the result?"
   ]
  },
  {
   "cell_type": "code",
   "execution_count": 78,
   "id": "1f03d067",
   "metadata": {},
   "outputs": [
    {
     "name": "stdout",
     "output_type": "stream",
     "text": [
      "Sum of elements in w: 0.5187709081074016\n"
     ]
    }
   ],
   "source": [
    "w_sum = w.sum()\n",
    "print(\"Sum of elements in w:\", w_sum)\n"
   ]
  }
 ],
 "metadata": {
  "kernelspec": {
   "display_name": "Python 3",
   "language": "python",
   "name": "python3"
  },
  "language_info": {
   "codemirror_mode": {
    "name": "ipython",
    "version": 3
   },
   "file_extension": ".py",
   "mimetype": "text/x-python",
   "name": "python",
   "nbconvert_exporter": "python",
   "pygments_lexer": "ipython3",
   "version": "3.13.5"
  }
 },
 "nbformat": 4,
 "nbformat_minor": 5
}
